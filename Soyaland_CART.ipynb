{
  "nbformat": 4,
  "nbformat_minor": 0,
  "metadata": {
    "colab": {
      "provenance": [],
      "mount_file_id": "18NrkkR99ohn3iOd0HmQm3O2kCgoMQAk3",
      "authorship_tag": "ABX9TyOZouCTpuIP9aymitV5v7y/",
      "include_colab_link": true
    },
    "kernelspec": {
      "name": "python3",
      "display_name": "Python 3"
    },
    "language_info": {
      "name": "python"
    }
  },
  "cells": [
    {
      "cell_type": "markdown",
      "metadata": {
        "id": "view-in-github",
        "colab_type": "text"
      },
      "source": [
        "<a href=\"https://colab.research.google.com/github/fhallatu/2_version-control-and-branch-management-git/blob/main/Soyaland_CART.ipynb\" target=\"_parent\"><img src=\"https://colab.research.google.com/assets/colab-badge.svg\" alt=\"Open In Colab\"/></a>"
      ]
    },
    {
      "cell_type": "markdown",
      "metadata": {
        "id": "q8dxr2M55eVm"
      },
      "source": [
        "# Library"
      ]
    },
    {
      "cell_type": "code",
      "execution_count": 29,
      "metadata": {
        "colab": {
          "base_uri": "https://localhost:8080/"
        },
        "id": "sRHHwocK2xaN",
        "outputId": "575e796c-c86f-4cfe-80eb-08f8cd277cca"
      },
      "outputs": [
        {
          "output_type": "stream",
          "name": "stdout",
          "text": [
            "Mounted at /content/drive\n"
          ]
        }
      ],
      "source": [
        "from google.colab import drive\n",
        "drive.mount('/content/drive', force_remount = True)"
      ]
    },
    {
      "cell_type": "code",
      "execution_count": 30,
      "metadata": {
        "id": "5zf7Yea25YMF"
      },
      "outputs": [],
      "source": [
        "import pandas as pd\n",
        "import numpy as np\n",
        "\n",
        "from sklearn.model_selection import train_test_split\n",
        "from sklearn.metrics import accuracy_score\n",
        "from sklearn import tree\n",
        "\n",
        "from IPython.display import Image, display\n",
        "\n",
        "import graphviz\n",
        "\n",
        "import pydotplus"
      ]
    },
    {
      "cell_type": "markdown",
      "source": [
        "# **Import Data**"
      ],
      "metadata": {
        "id": "cV64B4FYW7YX"
      }
    },
    {
      "cell_type": "code",
      "execution_count": 31,
      "metadata": {
        "id": "ApflNITn55yv",
        "colab": {
          "base_uri": "https://localhost:8080/",
          "height": 404
        },
        "outputId": "4b30fa1e-0874-4c6e-976c-1eaaa34ae2e6"
      },
      "outputs": [
        {
          "output_type": "execute_result",
          "data": {
            "text/plain": [
              "   Unnamed: 0  Mapping Unit  No.      Kecamatan        Kabupaten  Provinsi  \\\n",
              "0           0             1    1  Talang Empat   Bengkulu Tengah  Bengkulu   \n",
              "1           1             1    2  Pondok Kelapa  Bengkulu Tengah  Bengkulu   \n",
              "2           2             2    3   Talang Empat  Bengkulu Tengah  Bengkulu   \n",
              "3           3             2    4  Pondok Kelapa  Bengkulu Tengah  Bengkulu   \n",
              "4           4             3    5  Pematang Tiga  Bengkulu Tengah  Bengkulu   \n",
              "\n",
              "   temperatur_rerata  curah_hujan  kelembaban  bulan_basah  ...  ktk_tanah  \\\n",
              "0              26.07         3025       83.51            7  ...      61.09   \n",
              "1              26.07         2655       83.51            7  ...      61.09   \n",
              "2              26.23         3025       83.51            7  ...      61.09   \n",
              "3              26.23         2655       83.51            7  ...      61.09   \n",
              "4              25.77         2655       83.51            7  ...      61.09   \n",
              "\n",
              "   kejenuhan_basa  ph_h2o  c_organik  n_total  p2o5  k2o  lereng  \\\n",
              "0           53.11    5.42       1.25        2     1    1       3   \n",
              "1           53.11    5.42       1.25        2     1    1       3   \n",
              "2           53.11    5.42       1.25        2     1    1       1   \n",
              "3           53.11    5.42       1.25        2     1    1       1   \n",
              "4           53.11    5.42       1.25        2     1    1       3   \n",
              "\n",
              "   bahaya_erosi  label_evaluasi  \n",
              "0             1               N  \n",
              "1             1               N  \n",
              "2             1               N  \n",
              "3             1               N  \n",
              "4             1               N  \n",
              "\n",
              "[5 rows x 23 columns]"
            ],
            "text/html": [
              "\n",
              "  <div id=\"df-6bd3f7ef-5b3a-4534-8423-a4bef20aeed0\">\n",
              "    <div class=\"colab-df-container\">\n",
              "      <div>\n",
              "<style scoped>\n",
              "    .dataframe tbody tr th:only-of-type {\n",
              "        vertical-align: middle;\n",
              "    }\n",
              "\n",
              "    .dataframe tbody tr th {\n",
              "        vertical-align: top;\n",
              "    }\n",
              "\n",
              "    .dataframe thead th {\n",
              "        text-align: right;\n",
              "    }\n",
              "</style>\n",
              "<table border=\"1\" class=\"dataframe\">\n",
              "  <thead>\n",
              "    <tr style=\"text-align: right;\">\n",
              "      <th></th>\n",
              "      <th>Unnamed: 0</th>\n",
              "      <th>Mapping Unit</th>\n",
              "      <th>No.</th>\n",
              "      <th>Kecamatan</th>\n",
              "      <th>Kabupaten</th>\n",
              "      <th>Provinsi</th>\n",
              "      <th>temperatur_rerata</th>\n",
              "      <th>curah_hujan</th>\n",
              "      <th>kelembaban</th>\n",
              "      <th>bulan_basah</th>\n",
              "      <th>...</th>\n",
              "      <th>ktk_tanah</th>\n",
              "      <th>kejenuhan_basa</th>\n",
              "      <th>ph_h2o</th>\n",
              "      <th>c_organik</th>\n",
              "      <th>n_total</th>\n",
              "      <th>p2o5</th>\n",
              "      <th>k2o</th>\n",
              "      <th>lereng</th>\n",
              "      <th>bahaya_erosi</th>\n",
              "      <th>label_evaluasi</th>\n",
              "    </tr>\n",
              "  </thead>\n",
              "  <tbody>\n",
              "    <tr>\n",
              "      <th>0</th>\n",
              "      <td>0</td>\n",
              "      <td>1</td>\n",
              "      <td>1</td>\n",
              "      <td>Talang Empat</td>\n",
              "      <td>Bengkulu Tengah</td>\n",
              "      <td>Bengkulu</td>\n",
              "      <td>26.07</td>\n",
              "      <td>3025</td>\n",
              "      <td>83.51</td>\n",
              "      <td>7</td>\n",
              "      <td>...</td>\n",
              "      <td>61.09</td>\n",
              "      <td>53.11</td>\n",
              "      <td>5.42</td>\n",
              "      <td>1.25</td>\n",
              "      <td>2</td>\n",
              "      <td>1</td>\n",
              "      <td>1</td>\n",
              "      <td>3</td>\n",
              "      <td>1</td>\n",
              "      <td>N</td>\n",
              "    </tr>\n",
              "    <tr>\n",
              "      <th>1</th>\n",
              "      <td>1</td>\n",
              "      <td>1</td>\n",
              "      <td>2</td>\n",
              "      <td>Pondok Kelapa</td>\n",
              "      <td>Bengkulu Tengah</td>\n",
              "      <td>Bengkulu</td>\n",
              "      <td>26.07</td>\n",
              "      <td>2655</td>\n",
              "      <td>83.51</td>\n",
              "      <td>7</td>\n",
              "      <td>...</td>\n",
              "      <td>61.09</td>\n",
              "      <td>53.11</td>\n",
              "      <td>5.42</td>\n",
              "      <td>1.25</td>\n",
              "      <td>2</td>\n",
              "      <td>1</td>\n",
              "      <td>1</td>\n",
              "      <td>3</td>\n",
              "      <td>1</td>\n",
              "      <td>N</td>\n",
              "    </tr>\n",
              "    <tr>\n",
              "      <th>2</th>\n",
              "      <td>2</td>\n",
              "      <td>2</td>\n",
              "      <td>3</td>\n",
              "      <td>Talang Empat</td>\n",
              "      <td>Bengkulu Tengah</td>\n",
              "      <td>Bengkulu</td>\n",
              "      <td>26.23</td>\n",
              "      <td>3025</td>\n",
              "      <td>83.51</td>\n",
              "      <td>7</td>\n",
              "      <td>...</td>\n",
              "      <td>61.09</td>\n",
              "      <td>53.11</td>\n",
              "      <td>5.42</td>\n",
              "      <td>1.25</td>\n",
              "      <td>2</td>\n",
              "      <td>1</td>\n",
              "      <td>1</td>\n",
              "      <td>1</td>\n",
              "      <td>1</td>\n",
              "      <td>N</td>\n",
              "    </tr>\n",
              "    <tr>\n",
              "      <th>3</th>\n",
              "      <td>3</td>\n",
              "      <td>2</td>\n",
              "      <td>4</td>\n",
              "      <td>Pondok Kelapa</td>\n",
              "      <td>Bengkulu Tengah</td>\n",
              "      <td>Bengkulu</td>\n",
              "      <td>26.23</td>\n",
              "      <td>2655</td>\n",
              "      <td>83.51</td>\n",
              "      <td>7</td>\n",
              "      <td>...</td>\n",
              "      <td>61.09</td>\n",
              "      <td>53.11</td>\n",
              "      <td>5.42</td>\n",
              "      <td>1.25</td>\n",
              "      <td>2</td>\n",
              "      <td>1</td>\n",
              "      <td>1</td>\n",
              "      <td>1</td>\n",
              "      <td>1</td>\n",
              "      <td>N</td>\n",
              "    </tr>\n",
              "    <tr>\n",
              "      <th>4</th>\n",
              "      <td>4</td>\n",
              "      <td>3</td>\n",
              "      <td>5</td>\n",
              "      <td>Pematang Tiga</td>\n",
              "      <td>Bengkulu Tengah</td>\n",
              "      <td>Bengkulu</td>\n",
              "      <td>25.77</td>\n",
              "      <td>2655</td>\n",
              "      <td>83.51</td>\n",
              "      <td>7</td>\n",
              "      <td>...</td>\n",
              "      <td>61.09</td>\n",
              "      <td>53.11</td>\n",
              "      <td>5.42</td>\n",
              "      <td>1.25</td>\n",
              "      <td>2</td>\n",
              "      <td>1</td>\n",
              "      <td>1</td>\n",
              "      <td>3</td>\n",
              "      <td>1</td>\n",
              "      <td>N</td>\n",
              "    </tr>\n",
              "  </tbody>\n",
              "</table>\n",
              "<p>5 rows × 23 columns</p>\n",
              "</div>\n",
              "      <button class=\"colab-df-convert\" onclick=\"convertToInteractive('df-6bd3f7ef-5b3a-4534-8423-a4bef20aeed0')\"\n",
              "              title=\"Convert this dataframe to an interactive table.\"\n",
              "              style=\"display:none;\">\n",
              "        \n",
              "  <svg xmlns=\"http://www.w3.org/2000/svg\" height=\"24px\"viewBox=\"0 0 24 24\"\n",
              "       width=\"24px\">\n",
              "    <path d=\"M0 0h24v24H0V0z\" fill=\"none\"/>\n",
              "    <path d=\"M18.56 5.44l.94 2.06.94-2.06 2.06-.94-2.06-.94-.94-2.06-.94 2.06-2.06.94zm-11 1L8.5 8.5l.94-2.06 2.06-.94-2.06-.94L8.5 2.5l-.94 2.06-2.06.94zm10 10l.94 2.06.94-2.06 2.06-.94-2.06-.94-.94-2.06-.94 2.06-2.06.94z\"/><path d=\"M17.41 7.96l-1.37-1.37c-.4-.4-.92-.59-1.43-.59-.52 0-1.04.2-1.43.59L10.3 9.45l-7.72 7.72c-.78.78-.78 2.05 0 2.83L4 21.41c.39.39.9.59 1.41.59.51 0 1.02-.2 1.41-.59l7.78-7.78 2.81-2.81c.8-.78.8-2.07 0-2.86zM5.41 20L4 18.59l7.72-7.72 1.47 1.35L5.41 20z\"/>\n",
              "  </svg>\n",
              "      </button>\n",
              "      \n",
              "  <style>\n",
              "    .colab-df-container {\n",
              "      display:flex;\n",
              "      flex-wrap:wrap;\n",
              "      gap: 12px;\n",
              "    }\n",
              "\n",
              "    .colab-df-convert {\n",
              "      background-color: #E8F0FE;\n",
              "      border: none;\n",
              "      border-radius: 50%;\n",
              "      cursor: pointer;\n",
              "      display: none;\n",
              "      fill: #1967D2;\n",
              "      height: 32px;\n",
              "      padding: 0 0 0 0;\n",
              "      width: 32px;\n",
              "    }\n",
              "\n",
              "    .colab-df-convert:hover {\n",
              "      background-color: #E2EBFA;\n",
              "      box-shadow: 0px 1px 2px rgba(60, 64, 67, 0.3), 0px 1px 3px 1px rgba(60, 64, 67, 0.15);\n",
              "      fill: #174EA6;\n",
              "    }\n",
              "\n",
              "    [theme=dark] .colab-df-convert {\n",
              "      background-color: #3B4455;\n",
              "      fill: #D2E3FC;\n",
              "    }\n",
              "\n",
              "    [theme=dark] .colab-df-convert:hover {\n",
              "      background-color: #434B5C;\n",
              "      box-shadow: 0px 1px 3px 1px rgba(0, 0, 0, 0.15);\n",
              "      filter: drop-shadow(0px 1px 2px rgba(0, 0, 0, 0.3));\n",
              "      fill: #FFFFFF;\n",
              "    }\n",
              "  </style>\n",
              "\n",
              "      <script>\n",
              "        const buttonEl =\n",
              "          document.querySelector('#df-6bd3f7ef-5b3a-4534-8423-a4bef20aeed0 button.colab-df-convert');\n",
              "        buttonEl.style.display =\n",
              "          google.colab.kernel.accessAllowed ? 'block' : 'none';\n",
              "\n",
              "        async function convertToInteractive(key) {\n",
              "          const element = document.querySelector('#df-6bd3f7ef-5b3a-4534-8423-a4bef20aeed0');\n",
              "          const dataTable =\n",
              "            await google.colab.kernel.invokeFunction('convertToInteractive',\n",
              "                                                     [key], {});\n",
              "          if (!dataTable) return;\n",
              "\n",
              "          const docLinkHtml = 'Like what you see? Visit the ' +\n",
              "            '<a target=\"_blank\" href=https://colab.research.google.com/notebooks/data_table.ipynb>data table notebook</a>'\n",
              "            + ' to learn more about interactive tables.';\n",
              "          element.innerHTML = '';\n",
              "          dataTable['output_type'] = 'display_data';\n",
              "          await google.colab.output.renderOutput(dataTable, element);\n",
              "          const docLink = document.createElement('div');\n",
              "          docLink.innerHTML = docLinkHtml;\n",
              "          element.appendChild(docLink);\n",
              "        }\n",
              "      </script>\n",
              "    </div>\n",
              "  </div>\n",
              "  "
            ]
          },
          "metadata": {},
          "execution_count": 31
        }
      ],
      "source": [
        "path_dataset = \"/content/drive/MyDrive/Data_Used/data lahan.csv\"\n",
        "df = pd.read_csv(path_dataset, sep=',')\n",
        "df.head()"
      ]
    },
    {
      "cell_type": "markdown",
      "metadata": {
        "id": "8aaHK5iOJoot"
      },
      "source": [
        "# **Data Preparation**"
      ]
    },
    {
      "cell_type": "markdown",
      "metadata": {
        "id": "Yps8sy76O14a"
      },
      "source": [
        "## **Drop Column**"
      ]
    },
    {
      "cell_type": "code",
      "execution_count": 32,
      "metadata": {
        "id": "aeW7hKNSQMHf",
        "colab": {
          "base_uri": "https://localhost:8080/"
        },
        "outputId": "53a5e372-4159-46c4-b194-c8537b0d70d7"
      },
      "outputs": [
        {
          "output_type": "stream",
          "name": "stdout",
          "text": [
            "<class 'pandas.core.frame.DataFrame'>\n",
            "RangeIndex: 247 entries, 0 to 246\n",
            "Data columns (total 23 columns):\n",
            " #   Column             Non-Null Count  Dtype  \n",
            "---  ------             --------------  -----  \n",
            " 0   Unnamed: 0         247 non-null    int64  \n",
            " 1   Mapping Unit       247 non-null    int64  \n",
            " 2   No.                247 non-null    int64  \n",
            " 3   Kecamatan          247 non-null    object \n",
            " 4   Kabupaten          247 non-null    object \n",
            " 5   Provinsi           247 non-null    object \n",
            " 6   temperatur_rerata  247 non-null    float64\n",
            " 7   curah_hujan        247 non-null    int64  \n",
            " 8   kelembaban         247 non-null    float64\n",
            " 9   bulan_basah        247 non-null    int64  \n",
            " 10  drainase           247 non-null    int64  \n",
            " 11  tekstur            247 non-null    int64  \n",
            " 12  kedalaman_tanah    247 non-null    int64  \n",
            " 13  ktk_tanah          247 non-null    float64\n",
            " 14  kejenuhan_basa     247 non-null    float64\n",
            " 15  ph_h2o             247 non-null    float64\n",
            " 16  c_organik          247 non-null    float64\n",
            " 17  n_total            247 non-null    int64  \n",
            " 18  p2o5               247 non-null    int64  \n",
            " 19  k2o                247 non-null    int64  \n",
            " 20  lereng             247 non-null    int64  \n",
            " 21  bahaya_erosi       247 non-null    int64  \n",
            " 22  label_evaluasi     247 non-null    object \n",
            "dtypes: float64(6), int64(13), object(4)\n",
            "memory usage: 44.5+ KB\n"
          ]
        }
      ],
      "source": [
        "df.info()"
      ]
    },
    {
      "cell_type": "code",
      "execution_count": 33,
      "metadata": {
        "id": "aW-DeXOlQVmp"
      },
      "outputs": [],
      "source": [
        "df.drop([\"Unnamed: 0\",\"Mapping Unit\",\"No.\",\"Kecamatan\",\"Kabupaten\",\"Provinsi\"], axis=1, inplace=True)"
      ]
    },
    {
      "cell_type": "code",
      "execution_count": 34,
      "metadata": {
        "id": "t-n7gfSQRPmb",
        "colab": {
          "base_uri": "https://localhost:8080/"
        },
        "outputId": "ff6129f4-22c8-4265-ce78-2384f4cfbc27"
      },
      "outputs": [
        {
          "output_type": "stream",
          "name": "stdout",
          "text": [
            "<class 'pandas.core.frame.DataFrame'>\n",
            "RangeIndex: 247 entries, 0 to 246\n",
            "Data columns (total 17 columns):\n",
            " #   Column             Non-Null Count  Dtype  \n",
            "---  ------             --------------  -----  \n",
            " 0   temperatur_rerata  247 non-null    float64\n",
            " 1   curah_hujan        247 non-null    int64  \n",
            " 2   kelembaban         247 non-null    float64\n",
            " 3   bulan_basah        247 non-null    int64  \n",
            " 4   drainase           247 non-null    int64  \n",
            " 5   tekstur            247 non-null    int64  \n",
            " 6   kedalaman_tanah    247 non-null    int64  \n",
            " 7   ktk_tanah          247 non-null    float64\n",
            " 8   kejenuhan_basa     247 non-null    float64\n",
            " 9   ph_h2o             247 non-null    float64\n",
            " 10  c_organik          247 non-null    float64\n",
            " 11  n_total            247 non-null    int64  \n",
            " 12  p2o5               247 non-null    int64  \n",
            " 13  k2o                247 non-null    int64  \n",
            " 14  lereng             247 non-null    int64  \n",
            " 15  bahaya_erosi       247 non-null    int64  \n",
            " 16  label_evaluasi     247 non-null    object \n",
            "dtypes: float64(6), int64(10), object(1)\n",
            "memory usage: 32.9+ KB\n"
          ]
        }
      ],
      "source": [
        "df.info()"
      ]
    },
    {
      "cell_type": "markdown",
      "metadata": {
        "id": "qLfV-bNVRTY6"
      },
      "source": [
        "## **Data Cleaning**"
      ]
    },
    {
      "cell_type": "code",
      "execution_count": 35,
      "metadata": {
        "id": "IXfONm1Lb_KG",
        "colab": {
          "base_uri": "https://localhost:8080/"
        },
        "outputId": "586aabf4-158f-4cbb-ab5f-30210e2aca9c"
      },
      "outputs": [
        {
          "output_type": "stream",
          "name": "stdout",
          "text": [
            "<class 'pandas.core.frame.DataFrame'>\n",
            "RangeIndex: 247 entries, 0 to 246\n",
            "Data columns (total 17 columns):\n",
            " #   Column             Non-Null Count  Dtype  \n",
            "---  ------             --------------  -----  \n",
            " 0   temperatur_rerata  247 non-null    float64\n",
            " 1   curah_hujan        247 non-null    int64  \n",
            " 2   kelembaban         247 non-null    float64\n",
            " 3   bulan_basah        247 non-null    int64  \n",
            " 4   drainase           247 non-null    int64  \n",
            " 5   tekstur            247 non-null    int64  \n",
            " 6   kedalaman_tanah    247 non-null    int64  \n",
            " 7   ktk_tanah          247 non-null    float64\n",
            " 8   kejenuhan_basa     247 non-null    float64\n",
            " 9   ph_h2o             247 non-null    float64\n",
            " 10  c_organik          247 non-null    float64\n",
            " 11  n_total            247 non-null    int64  \n",
            " 12  p2o5               247 non-null    int64  \n",
            " 13  k2o                247 non-null    int64  \n",
            " 14  lereng             247 non-null    int64  \n",
            " 15  bahaya_erosi       247 non-null    int64  \n",
            " 16  label_evaluasi     247 non-null    object \n",
            "dtypes: float64(6), int64(10), object(1)\n",
            "memory usage: 32.9+ KB\n"
          ]
        }
      ],
      "source": [
        "df.info()"
      ]
    },
    {
      "cell_type": "code",
      "execution_count": 36,
      "metadata": {
        "id": "rOIBFkxFcA7C",
        "colab": {
          "base_uri": "https://localhost:8080/"
        },
        "outputId": "b07f5691-c677-4c45-8341-24efb6c2e742"
      },
      "outputs": [
        {
          "output_type": "execute_result",
          "data": {
            "text/plain": [
              "temperatur_rerata    0\n",
              "curah_hujan          0\n",
              "kelembaban           0\n",
              "bulan_basah          0\n",
              "drainase             0\n",
              "tekstur              0\n",
              "kedalaman_tanah      0\n",
              "ktk_tanah            0\n",
              "kejenuhan_basa       0\n",
              "ph_h2o               0\n",
              "c_organik            0\n",
              "n_total              0\n",
              "p2o5                 0\n",
              "k2o                  0\n",
              "lereng               0\n",
              "bahaya_erosi         0\n",
              "label_evaluasi       0\n",
              "dtype: int64"
            ]
          },
          "metadata": {},
          "execution_count": 36
        }
      ],
      "source": [
        "df.isna().sum()"
      ]
    },
    {
      "cell_type": "code",
      "execution_count": 37,
      "metadata": {
        "id": "PmRdj5pBTLlB"
      },
      "outputs": [],
      "source": [
        "df.to_csv('lahan.csv')"
      ]
    },
    {
      "cell_type": "code",
      "execution_count": 38,
      "metadata": {
        "id": "WsLjcmRwT55C",
        "colab": {
          "base_uri": "https://localhost:8080/",
          "height": 505
        },
        "outputId": "5a06918a-b970-476a-8aa9-43a8a126f242"
      },
      "outputs": [
        {
          "output_type": "execute_result",
          "data": {
            "text/plain": [
              "     Unnamed: 0  temperatur_rerata  curah_hujan  kelembaban  bulan_basah  \\\n",
              "0             0              26.07         3025       83.51            7   \n",
              "1             1              26.07         2655       83.51            7   \n",
              "2             2              26.23         3025       83.51            7   \n",
              "3             3              26.23         2655       83.51            7   \n",
              "4             4              25.77         2655       83.51            7   \n",
              "..          ...                ...          ...         ...          ...   \n",
              "242         242              22.44         1625       68.50            7   \n",
              "243         243              22.44         2772       68.50            7   \n",
              "244         244              22.44         2586       68.50            7   \n",
              "245         245              17.75         2708       68.50            7   \n",
              "246         246              17.90         2586       68.50            7   \n",
              "\n",
              "     drainase  tekstur  kedalaman_tanah  ktk_tanah  kejenuhan_basa  ph_h2o  \\\n",
              "0           2        1              100      61.09           53.11    5.42   \n",
              "1           2        1              100      61.09           53.11    5.42   \n",
              "2           2        1              100      61.09           53.11    5.42   \n",
              "3           2        1              100      61.09           53.11    5.42   \n",
              "4           2        2              100      61.09           53.11    5.42   \n",
              "..        ...      ...              ...        ...             ...     ...   \n",
              "242         5        1              120      25.41           23.69    5.14   \n",
              "243         5        1              120      25.41           23.69    5.14   \n",
              "244         5        1              120      25.41           23.69    5.14   \n",
              "245         5        1              120       0.00            0.00    5.72   \n",
              "246         5        1              120       0.00            0.00    5.72   \n",
              "\n",
              "     c_organik  n_total  p2o5  k2o  lereng  bahaya_erosi label_evaluasi  \n",
              "0         1.25        2     1    1       3             1              N  \n",
              "1         1.25        2     1    1       3             1              N  \n",
              "2         1.25        2     1    1       1             1              N  \n",
              "3         1.25        2     1    1       1             1              N  \n",
              "4         1.25        2     1    1       3             1              N  \n",
              "..         ...      ...   ...  ...     ...           ...            ...  \n",
              "242       0.00        2     1    1      41             4              N  \n",
              "243       0.00        2     1    1      41             4              N  \n",
              "244       0.00        2     1    1      41             4              N  \n",
              "245       3.30        1     2    1      40             3              N  \n",
              "246       2.30        1     2    1      41             4              N  \n",
              "\n",
              "[247 rows x 18 columns]"
            ],
            "text/html": [
              "\n",
              "  <div id=\"df-cc4337e3-e52b-4cbd-a37e-c1a20c764c62\">\n",
              "    <div class=\"colab-df-container\">\n",
              "      <div>\n",
              "<style scoped>\n",
              "    .dataframe tbody tr th:only-of-type {\n",
              "        vertical-align: middle;\n",
              "    }\n",
              "\n",
              "    .dataframe tbody tr th {\n",
              "        vertical-align: top;\n",
              "    }\n",
              "\n",
              "    .dataframe thead th {\n",
              "        text-align: right;\n",
              "    }\n",
              "</style>\n",
              "<table border=\"1\" class=\"dataframe\">\n",
              "  <thead>\n",
              "    <tr style=\"text-align: right;\">\n",
              "      <th></th>\n",
              "      <th>Unnamed: 0</th>\n",
              "      <th>temperatur_rerata</th>\n",
              "      <th>curah_hujan</th>\n",
              "      <th>kelembaban</th>\n",
              "      <th>bulan_basah</th>\n",
              "      <th>drainase</th>\n",
              "      <th>tekstur</th>\n",
              "      <th>kedalaman_tanah</th>\n",
              "      <th>ktk_tanah</th>\n",
              "      <th>kejenuhan_basa</th>\n",
              "      <th>ph_h2o</th>\n",
              "      <th>c_organik</th>\n",
              "      <th>n_total</th>\n",
              "      <th>p2o5</th>\n",
              "      <th>k2o</th>\n",
              "      <th>lereng</th>\n",
              "      <th>bahaya_erosi</th>\n",
              "      <th>label_evaluasi</th>\n",
              "    </tr>\n",
              "  </thead>\n",
              "  <tbody>\n",
              "    <tr>\n",
              "      <th>0</th>\n",
              "      <td>0</td>\n",
              "      <td>26.07</td>\n",
              "      <td>3025</td>\n",
              "      <td>83.51</td>\n",
              "      <td>7</td>\n",
              "      <td>2</td>\n",
              "      <td>1</td>\n",
              "      <td>100</td>\n",
              "      <td>61.09</td>\n",
              "      <td>53.11</td>\n",
              "      <td>5.42</td>\n",
              "      <td>1.25</td>\n",
              "      <td>2</td>\n",
              "      <td>1</td>\n",
              "      <td>1</td>\n",
              "      <td>3</td>\n",
              "      <td>1</td>\n",
              "      <td>N</td>\n",
              "    </tr>\n",
              "    <tr>\n",
              "      <th>1</th>\n",
              "      <td>1</td>\n",
              "      <td>26.07</td>\n",
              "      <td>2655</td>\n",
              "      <td>83.51</td>\n",
              "      <td>7</td>\n",
              "      <td>2</td>\n",
              "      <td>1</td>\n",
              "      <td>100</td>\n",
              "      <td>61.09</td>\n",
              "      <td>53.11</td>\n",
              "      <td>5.42</td>\n",
              "      <td>1.25</td>\n",
              "      <td>2</td>\n",
              "      <td>1</td>\n",
              "      <td>1</td>\n",
              "      <td>3</td>\n",
              "      <td>1</td>\n",
              "      <td>N</td>\n",
              "    </tr>\n",
              "    <tr>\n",
              "      <th>2</th>\n",
              "      <td>2</td>\n",
              "      <td>26.23</td>\n",
              "      <td>3025</td>\n",
              "      <td>83.51</td>\n",
              "      <td>7</td>\n",
              "      <td>2</td>\n",
              "      <td>1</td>\n",
              "      <td>100</td>\n",
              "      <td>61.09</td>\n",
              "      <td>53.11</td>\n",
              "      <td>5.42</td>\n",
              "      <td>1.25</td>\n",
              "      <td>2</td>\n",
              "      <td>1</td>\n",
              "      <td>1</td>\n",
              "      <td>1</td>\n",
              "      <td>1</td>\n",
              "      <td>N</td>\n",
              "    </tr>\n",
              "    <tr>\n",
              "      <th>3</th>\n",
              "      <td>3</td>\n",
              "      <td>26.23</td>\n",
              "      <td>2655</td>\n",
              "      <td>83.51</td>\n",
              "      <td>7</td>\n",
              "      <td>2</td>\n",
              "      <td>1</td>\n",
              "      <td>100</td>\n",
              "      <td>61.09</td>\n",
              "      <td>53.11</td>\n",
              "      <td>5.42</td>\n",
              "      <td>1.25</td>\n",
              "      <td>2</td>\n",
              "      <td>1</td>\n",
              "      <td>1</td>\n",
              "      <td>1</td>\n",
              "      <td>1</td>\n",
              "      <td>N</td>\n",
              "    </tr>\n",
              "    <tr>\n",
              "      <th>4</th>\n",
              "      <td>4</td>\n",
              "      <td>25.77</td>\n",
              "      <td>2655</td>\n",
              "      <td>83.51</td>\n",
              "      <td>7</td>\n",
              "      <td>2</td>\n",
              "      <td>2</td>\n",
              "      <td>100</td>\n",
              "      <td>61.09</td>\n",
              "      <td>53.11</td>\n",
              "      <td>5.42</td>\n",
              "      <td>1.25</td>\n",
              "      <td>2</td>\n",
              "      <td>1</td>\n",
              "      <td>1</td>\n",
              "      <td>3</td>\n",
              "      <td>1</td>\n",
              "      <td>N</td>\n",
              "    </tr>\n",
              "    <tr>\n",
              "      <th>...</th>\n",
              "      <td>...</td>\n",
              "      <td>...</td>\n",
              "      <td>...</td>\n",
              "      <td>...</td>\n",
              "      <td>...</td>\n",
              "      <td>...</td>\n",
              "      <td>...</td>\n",
              "      <td>...</td>\n",
              "      <td>...</td>\n",
              "      <td>...</td>\n",
              "      <td>...</td>\n",
              "      <td>...</td>\n",
              "      <td>...</td>\n",
              "      <td>...</td>\n",
              "      <td>...</td>\n",
              "      <td>...</td>\n",
              "      <td>...</td>\n",
              "      <td>...</td>\n",
              "    </tr>\n",
              "    <tr>\n",
              "      <th>242</th>\n",
              "      <td>242</td>\n",
              "      <td>22.44</td>\n",
              "      <td>1625</td>\n",
              "      <td>68.50</td>\n",
              "      <td>7</td>\n",
              "      <td>5</td>\n",
              "      <td>1</td>\n",
              "      <td>120</td>\n",
              "      <td>25.41</td>\n",
              "      <td>23.69</td>\n",
              "      <td>5.14</td>\n",
              "      <td>0.00</td>\n",
              "      <td>2</td>\n",
              "      <td>1</td>\n",
              "      <td>1</td>\n",
              "      <td>41</td>\n",
              "      <td>4</td>\n",
              "      <td>N</td>\n",
              "    </tr>\n",
              "    <tr>\n",
              "      <th>243</th>\n",
              "      <td>243</td>\n",
              "      <td>22.44</td>\n",
              "      <td>2772</td>\n",
              "      <td>68.50</td>\n",
              "      <td>7</td>\n",
              "      <td>5</td>\n",
              "      <td>1</td>\n",
              "      <td>120</td>\n",
              "      <td>25.41</td>\n",
              "      <td>23.69</td>\n",
              "      <td>5.14</td>\n",
              "      <td>0.00</td>\n",
              "      <td>2</td>\n",
              "      <td>1</td>\n",
              "      <td>1</td>\n",
              "      <td>41</td>\n",
              "      <td>4</td>\n",
              "      <td>N</td>\n",
              "    </tr>\n",
              "    <tr>\n",
              "      <th>244</th>\n",
              "      <td>244</td>\n",
              "      <td>22.44</td>\n",
              "      <td>2586</td>\n",
              "      <td>68.50</td>\n",
              "      <td>7</td>\n",
              "      <td>5</td>\n",
              "      <td>1</td>\n",
              "      <td>120</td>\n",
              "      <td>25.41</td>\n",
              "      <td>23.69</td>\n",
              "      <td>5.14</td>\n",
              "      <td>0.00</td>\n",
              "      <td>2</td>\n",
              "      <td>1</td>\n",
              "      <td>1</td>\n",
              "      <td>41</td>\n",
              "      <td>4</td>\n",
              "      <td>N</td>\n",
              "    </tr>\n",
              "    <tr>\n",
              "      <th>245</th>\n",
              "      <td>245</td>\n",
              "      <td>17.75</td>\n",
              "      <td>2708</td>\n",
              "      <td>68.50</td>\n",
              "      <td>7</td>\n",
              "      <td>5</td>\n",
              "      <td>1</td>\n",
              "      <td>120</td>\n",
              "      <td>0.00</td>\n",
              "      <td>0.00</td>\n",
              "      <td>5.72</td>\n",
              "      <td>3.30</td>\n",
              "      <td>1</td>\n",
              "      <td>2</td>\n",
              "      <td>1</td>\n",
              "      <td>40</td>\n",
              "      <td>3</td>\n",
              "      <td>N</td>\n",
              "    </tr>\n",
              "    <tr>\n",
              "      <th>246</th>\n",
              "      <td>246</td>\n",
              "      <td>17.90</td>\n",
              "      <td>2586</td>\n",
              "      <td>68.50</td>\n",
              "      <td>7</td>\n",
              "      <td>5</td>\n",
              "      <td>1</td>\n",
              "      <td>120</td>\n",
              "      <td>0.00</td>\n",
              "      <td>0.00</td>\n",
              "      <td>5.72</td>\n",
              "      <td>2.30</td>\n",
              "      <td>1</td>\n",
              "      <td>2</td>\n",
              "      <td>1</td>\n",
              "      <td>41</td>\n",
              "      <td>4</td>\n",
              "      <td>N</td>\n",
              "    </tr>\n",
              "  </tbody>\n",
              "</table>\n",
              "<p>247 rows × 18 columns</p>\n",
              "</div>\n",
              "      <button class=\"colab-df-convert\" onclick=\"convertToInteractive('df-cc4337e3-e52b-4cbd-a37e-c1a20c764c62')\"\n",
              "              title=\"Convert this dataframe to an interactive table.\"\n",
              "              style=\"display:none;\">\n",
              "        \n",
              "  <svg xmlns=\"http://www.w3.org/2000/svg\" height=\"24px\"viewBox=\"0 0 24 24\"\n",
              "       width=\"24px\">\n",
              "    <path d=\"M0 0h24v24H0V0z\" fill=\"none\"/>\n",
              "    <path d=\"M18.56 5.44l.94 2.06.94-2.06 2.06-.94-2.06-.94-.94-2.06-.94 2.06-2.06.94zm-11 1L8.5 8.5l.94-2.06 2.06-.94-2.06-.94L8.5 2.5l-.94 2.06-2.06.94zm10 10l.94 2.06.94-2.06 2.06-.94-2.06-.94-.94-2.06-.94 2.06-2.06.94z\"/><path d=\"M17.41 7.96l-1.37-1.37c-.4-.4-.92-.59-1.43-.59-.52 0-1.04.2-1.43.59L10.3 9.45l-7.72 7.72c-.78.78-.78 2.05 0 2.83L4 21.41c.39.39.9.59 1.41.59.51 0 1.02-.2 1.41-.59l7.78-7.78 2.81-2.81c.8-.78.8-2.07 0-2.86zM5.41 20L4 18.59l7.72-7.72 1.47 1.35L5.41 20z\"/>\n",
              "  </svg>\n",
              "      </button>\n",
              "      \n",
              "  <style>\n",
              "    .colab-df-container {\n",
              "      display:flex;\n",
              "      flex-wrap:wrap;\n",
              "      gap: 12px;\n",
              "    }\n",
              "\n",
              "    .colab-df-convert {\n",
              "      background-color: #E8F0FE;\n",
              "      border: none;\n",
              "      border-radius: 50%;\n",
              "      cursor: pointer;\n",
              "      display: none;\n",
              "      fill: #1967D2;\n",
              "      height: 32px;\n",
              "      padding: 0 0 0 0;\n",
              "      width: 32px;\n",
              "    }\n",
              "\n",
              "    .colab-df-convert:hover {\n",
              "      background-color: #E2EBFA;\n",
              "      box-shadow: 0px 1px 2px rgba(60, 64, 67, 0.3), 0px 1px 3px 1px rgba(60, 64, 67, 0.15);\n",
              "      fill: #174EA6;\n",
              "    }\n",
              "\n",
              "    [theme=dark] .colab-df-convert {\n",
              "      background-color: #3B4455;\n",
              "      fill: #D2E3FC;\n",
              "    }\n",
              "\n",
              "    [theme=dark] .colab-df-convert:hover {\n",
              "      background-color: #434B5C;\n",
              "      box-shadow: 0px 1px 3px 1px rgba(0, 0, 0, 0.15);\n",
              "      filter: drop-shadow(0px 1px 2px rgba(0, 0, 0, 0.3));\n",
              "      fill: #FFFFFF;\n",
              "    }\n",
              "  </style>\n",
              "\n",
              "      <script>\n",
              "        const buttonEl =\n",
              "          document.querySelector('#df-cc4337e3-e52b-4cbd-a37e-c1a20c764c62 button.colab-df-convert');\n",
              "        buttonEl.style.display =\n",
              "          google.colab.kernel.accessAllowed ? 'block' : 'none';\n",
              "\n",
              "        async function convertToInteractive(key) {\n",
              "          const element = document.querySelector('#df-cc4337e3-e52b-4cbd-a37e-c1a20c764c62');\n",
              "          const dataTable =\n",
              "            await google.colab.kernel.invokeFunction('convertToInteractive',\n",
              "                                                     [key], {});\n",
              "          if (!dataTable) return;\n",
              "\n",
              "          const docLinkHtml = 'Like what you see? Visit the ' +\n",
              "            '<a target=\"_blank\" href=https://colab.research.google.com/notebooks/data_table.ipynb>data table notebook</a>'\n",
              "            + ' to learn more about interactive tables.';\n",
              "          element.innerHTML = '';\n",
              "          dataTable['output_type'] = 'display_data';\n",
              "          await google.colab.output.renderOutput(dataTable, element);\n",
              "          const docLink = document.createElement('div');\n",
              "          docLink.innerHTML = docLinkHtml;\n",
              "          element.appendChild(docLink);\n",
              "        }\n",
              "      </script>\n",
              "    </div>\n",
              "  </div>\n",
              "  "
            ]
          },
          "metadata": {},
          "execution_count": 38
        }
      ],
      "source": [
        "df = pd.read_csv('lahan.csv')\n",
        "df"
      ]
    },
    {
      "cell_type": "markdown",
      "metadata": {
        "id": "Liozy0ZZcHtt"
      },
      "source": [
        "## **Split Data**"
      ]
    },
    {
      "cell_type": "markdown",
      "metadata": {
        "id": "mqG6FHbVcOP6"
      },
      "source": [
        "### **Variable Independent & Variable Dependent**"
      ]
    },
    {
      "cell_type": "code",
      "execution_count": 39,
      "metadata": {
        "id": "HLxLlvDpdN9r",
        "colab": {
          "base_uri": "https://localhost:8080/"
        },
        "outputId": "6ad15363-94ea-4aa1-b985-954c35fda8be"
      },
      "outputs": [
        {
          "output_type": "stream",
          "name": "stdout",
          "text": [
            "<class 'pandas.core.frame.DataFrame'>\n",
            "RangeIndex: 247 entries, 0 to 246\n",
            "Data columns (total 18 columns):\n",
            " #   Column             Non-Null Count  Dtype  \n",
            "---  ------             --------------  -----  \n",
            " 0   Unnamed: 0         247 non-null    int64  \n",
            " 1   temperatur_rerata  247 non-null    float64\n",
            " 2   curah_hujan        247 non-null    int64  \n",
            " 3   kelembaban         247 non-null    float64\n",
            " 4   bulan_basah        247 non-null    int64  \n",
            " 5   drainase           247 non-null    int64  \n",
            " 6   tekstur            247 non-null    int64  \n",
            " 7   kedalaman_tanah    247 non-null    int64  \n",
            " 8   ktk_tanah          247 non-null    float64\n",
            " 9   kejenuhan_basa     247 non-null    float64\n",
            " 10  ph_h2o             247 non-null    float64\n",
            " 11  c_organik          247 non-null    float64\n",
            " 12  n_total            247 non-null    int64  \n",
            " 13  p2o5               247 non-null    int64  \n",
            " 14  k2o                247 non-null    int64  \n",
            " 15  lereng             247 non-null    int64  \n",
            " 16  bahaya_erosi       247 non-null    int64  \n",
            " 17  label_evaluasi     247 non-null    object \n",
            "dtypes: float64(6), int64(11), object(1)\n",
            "memory usage: 34.9+ KB\n"
          ]
        }
      ],
      "source": [
        "df.info()"
      ]
    },
    {
      "cell_type": "code",
      "execution_count": 40,
      "metadata": {
        "id": "uCGRsNrWdQVT",
        "colab": {
          "base_uri": "https://localhost:8080/"
        },
        "outputId": "d5f38297-16e6-408b-8e3d-9a48821e5b15"
      },
      "outputs": [
        {
          "output_type": "execute_result",
          "data": {
            "text/plain": [
              "Index(['Unnamed: 0', 'temperatur_rerata', 'curah_hujan', 'kelembaban',\n",
              "       'bulan_basah', 'drainase', 'tekstur', 'kedalaman_tanah', 'ktk_tanah',\n",
              "       'kejenuhan_basa', 'ph_h2o', 'c_organik', 'n_total', 'p2o5', 'k2o',\n",
              "       'lereng', 'bahaya_erosi', 'label_evaluasi'],\n",
              "      dtype='object')"
            ]
          },
          "metadata": {},
          "execution_count": 40
        }
      ],
      "source": [
        "df.columns"
      ]
    },
    {
      "cell_type": "code",
      "execution_count": 41,
      "metadata": {
        "id": "8hCOMkBZdY0G"
      },
      "outputs": [],
      "source": [
        "def get_split_variabel(dataset):\n",
        "  x = dataset.iloc[:,:-1]\n",
        "  y = dataset.iloc[:,-1]\n",
        "\n",
        "  return x,y"
      ]
    },
    {
      "cell_type": "code",
      "execution_count": 42,
      "metadata": {
        "id": "rDutS06PVkmq",
        "colab": {
          "base_uri": "https://localhost:8080/"
        },
        "outputId": "797bd41d-735a-41d6-851a-3b1794a3bd99"
      },
      "outputs": [
        {
          "output_type": "execute_result",
          "data": {
            "text/plain": [
              "(     Unnamed: 0  temperatur_rerata  curah_hujan  kelembaban  bulan_basah  \\\n",
              " 0             0              26.07         3025       83.51            7   \n",
              " 1             1              26.07         2655       83.51            7   \n",
              " 2             2              26.23         3025       83.51            7   \n",
              " 3             3              26.23         2655       83.51            7   \n",
              " 4             4              25.77         2655       83.51            7   \n",
              " ..          ...                ...          ...         ...          ...   \n",
              " 242         242              22.44         1625       68.50            7   \n",
              " 243         243              22.44         2772       68.50            7   \n",
              " 244         244              22.44         2586       68.50            7   \n",
              " 245         245              17.75         2708       68.50            7   \n",
              " 246         246              17.90         2586       68.50            7   \n",
              " \n",
              "      drainase  tekstur  kedalaman_tanah  ktk_tanah  kejenuhan_basa  ph_h2o  \\\n",
              " 0           2        1              100      61.09           53.11    5.42   \n",
              " 1           2        1              100      61.09           53.11    5.42   \n",
              " 2           2        1              100      61.09           53.11    5.42   \n",
              " 3           2        1              100      61.09           53.11    5.42   \n",
              " 4           2        2              100      61.09           53.11    5.42   \n",
              " ..        ...      ...              ...        ...             ...     ...   \n",
              " 242         5        1              120      25.41           23.69    5.14   \n",
              " 243         5        1              120      25.41           23.69    5.14   \n",
              " 244         5        1              120      25.41           23.69    5.14   \n",
              " 245         5        1              120       0.00            0.00    5.72   \n",
              " 246         5        1              120       0.00            0.00    5.72   \n",
              " \n",
              "      c_organik  n_total  p2o5  k2o  lereng  bahaya_erosi  \n",
              " 0         1.25        2     1    1       3             1  \n",
              " 1         1.25        2     1    1       3             1  \n",
              " 2         1.25        2     1    1       1             1  \n",
              " 3         1.25        2     1    1       1             1  \n",
              " 4         1.25        2     1    1       3             1  \n",
              " ..         ...      ...   ...  ...     ...           ...  \n",
              " 242       0.00        2     1    1      41             4  \n",
              " 243       0.00        2     1    1      41             4  \n",
              " 244       0.00        2     1    1      41             4  \n",
              " 245       3.30        1     2    1      40             3  \n",
              " 246       2.30        1     2    1      41             4  \n",
              " \n",
              " [247 rows x 17 columns], 0      N\n",
              " 1      N\n",
              " 2      N\n",
              " 3      N\n",
              " 4      N\n",
              "       ..\n",
              " 242    N\n",
              " 243    N\n",
              " 244    N\n",
              " 245    N\n",
              " 246    N\n",
              " Name: label_evaluasi, Length: 247, dtype: object)"
            ]
          },
          "metadata": {},
          "execution_count": 42
        }
      ],
      "source": [
        "get_split_variabel(df)"
      ]
    },
    {
      "cell_type": "markdown",
      "metadata": {
        "id": "Fi5MaSG_t9EY"
      },
      "source": [
        "# **Classification And Regression Tree**"
      ]
    },
    {
      "cell_type": "code",
      "execution_count": 43,
      "metadata": {
        "id": "5R3HAs5L522k"
      },
      "outputs": [],
      "source": [
        "class cart:\n",
        "\n",
        "    def __init__(self, dataset):\n",
        "      self.dataset = dataset\n",
        "\n",
        "    def cart(self):\n",
        "      x, y = get_split_variabel(self.dataset)\n",
        "      self.x_train, self.x_test, self.y_train, self.y_test = train_test_split(x, y, test_size = 0.2, random_state=0)\n",
        "      self.model = self.get_cart_model(self.x_train, self.y_train)\n",
        "\n",
        "      self.y_pred = self.model.predict(self.x_test)\n",
        "      print(self.y_pred)\n",
        "\n",
        "      self.display_pohon(self.model, self.x_test, self.y_test)\n",
        "    \n",
        "    def get_cart_model(self, train_data, train_label):\n",
        "      dt = tree.DecisionTreeClassifier()\n",
        "      model = dt.fit(train_data, train_label)\n",
        "\n",
        "      return model\n",
        "    \n",
        "    def display_pohon(self, model, test_data, test_label):\n",
        "      dot_data = tree.export_graphviz(model, out_file=None, feature_names=test_data.columns, class_names=test_label.values, rounded=True, special_characters=True, filled=True)\n",
        "      graph = pydotplus.graph_from_dot_data(dot_data)\n",
        "      display(Image(graph.create_png()))"
      ]
    },
    {
      "cell_type": "code",
      "execution_count": 44,
      "metadata": {
        "id": "0qrR4zOKaJ4u",
        "colab": {
          "base_uri": "https://localhost:8080/",
          "height": 967
        },
        "outputId": "e3741347-4a7a-4ffe-8c8a-5c3ccdb3c876"
      },
      "outputs": [
        {
          "output_type": "stream",
          "name": "stdout",
          "text": [
            "['N' 'N' 'N' 'N' 'N' 'N' 'N' 'N' 'N' 'N' 'N' 'N' 'N' 'N' 'S3' 'S3' 'N'\n",
            " 'S3' 'N' 'N' 'N' 'N' 'N' 'N' 'N' 'N' 'N' 'N' 'N' 'N' 'N' 'N' 'N' 'N' 'N'\n",
            " 'N' 'N' 'N' 'N' 'N' 'N' 'N' 'N' 'N' 'N' 'S3' 'N' 'N' 'N' 'N']\n"
          ]
        },
        {
          "output_type": "display_data",
          "data": {
            "image/png": "[encoded data removed]",
            "text/plain": [
              "<IPython.core.display.Image object>"
            ]
          },
          "metadata": {}
        }
      ],
      "source": [
        "cart(df).cart()"
      ]
    }
  ]
}